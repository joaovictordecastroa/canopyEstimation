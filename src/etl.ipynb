{
 "cells": [
  {
   "cell_type": "markdown",
   "metadata": {},
   "source": [
    "## Importação"
   ]
  },
  {
   "cell_type": "code",
   "execution_count": 1,
   "metadata": {},
   "outputs": [],
   "source": [
    "import laspy\n",
    "import numpy as np\n",
    "import os\n",
    "import sys\n",
    "import traceback\n",
    "\n",
    "# import pandas as pd\n",
    "# import geopandas\n",
    "from os import listdir\n",
    "from os.path import isfile, join"
   ]
  },
  {
   "cell_type": "markdown",
   "metadata": {},
   "source": [
    "## Definição das variáveis"
   ]
  },
  {
   "cell_type": "code",
   "execution_count": 2,
   "metadata": {},
   "outputs": [],
   "source": [
    "input_path = (\n",
    "    \"C:/Users/joaov/Documents/UFMG/TCC/Dataset/DUC_A01_2017_LiDAR/DUC_A01_2017_LAS/\"\n",
    ")\n",
    "output_path = (\n",
    "    \"C:/Users/joaov/Documents/UFMG/TCC/Dataset/DUC_A01_2017_LiDAR/DUC_A01_2017_LAS/FULL/all_las_files.las\"\n",
    ")\n",
    "\n",
    "chunk_size = 2000000"
   ]
  },
  {
   "cell_type": "code",
   "execution_count": 3,
   "metadata": {},
   "outputs": [],
   "source": [
    "files = [f for f in listdir(input_path) if isfile(join(input_path, f))]"
   ]
  },
  {
   "cell_type": "markdown",
   "metadata": {},
   "source": [
    "## Processamento dos arquivos em um único LAS file"
   ]
  },
  {
   "cell_type": "code",
   "execution_count": 4,
   "metadata": {},
   "outputs": [],
   "source": [
    "i = 0\n",
    "\n",
    "for file in files:\n",
    "    with laspy.open(input_path + file, mode='r') as las_open:\n",
    "        header = laspy.LasHeader(point_format=6, version='1.4')\n",
    "        with laspy.open(output_path, header=header, mode=\"a\" if i != 0 else \"w\") as las_write:\n",
    "\n",
    "            buffer_chunk = laspy.PackedPointRecord.zeros(point_count=chunk_size, point_format=header.point_format)\n",
    "\n",
    "            for input_chunk in las_open.chunk_iterator(chunk_size):\n",
    "                output_chunk = buffer_chunk[:len(input_chunk)]\n",
    "                output_chunk.copy_fields_from(input_chunk)\n",
    "                if i != 0:\n",
    "                    las_write.append_points(output_chunk)\n",
    "                else: \n",
    "                    las_write.write_points(output_chunk)\n",
    "        \n",
    "        i = i + 1"
   ]
  }
 ],
 "metadata": {
  "kernelspec": {
   "display_name": "venv",
   "language": "python",
   "name": "python3"
  },
  "language_info": {
   "codemirror_mode": {
    "name": "ipython",
    "version": 3
   },
   "file_extension": ".py",
   "mimetype": "text/x-python",
   "name": "python",
   "nbconvert_exporter": "python",
   "pygments_lexer": "ipython3",
   "version": "3.12.0"
  }
 },
 "nbformat": 4,
 "nbformat_minor": 2
}
