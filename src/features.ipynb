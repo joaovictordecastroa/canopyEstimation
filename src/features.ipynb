{
 "cells": [
  {
   "cell_type": "markdown",
   "metadata": {},
   "source": [
    "# Setup"
   ]
  },
  {
   "cell_type": "code",
   "execution_count": 101,
   "metadata": {},
   "outputs": [],
   "source": [
    "import geopandas\n",
    "import pandas as pd\n",
    "import numpy as np\n",
    "import matplotlib.pyplot as plt\n",
    "import laspy\n",
    "from shapely.geometry import box, Polygon, MultiPolygon, GeometryCollection\n",
    "import uuid\n",
    "import scipy.stats\n",
    "import seaborn as sns\n",
    "from sklearn.preprocessing import normalize\n",
    "\n",
    "# from train_split import TrainSplit"
   ]
  },
  {
   "cell_type": "code",
   "execution_count": 102,
   "metadata": {},
   "outputs": [],
   "source": [
    "PATH = \"C:/Users/joaov/Documents/UFMG/TCC/Dataset/DUC_A01_2017_LiDAR/DUC_A01_2017_LAS/FULL/4_first_las_files.las\"\n",
    "# PATH = \"C:/Users/joaov/Documents/UFMG/TCC/Dataset/DUC_A01_2017_LiDAR/DUC_A01_2017_LAS/DUCL0001C0004.las\""
   ]
  },
  {
   "cell_type": "code",
   "execution_count": 103,
   "metadata": {},
   "outputs": [],
   "source": [
    "las = laspy.read(PATH)"
   ]
  },
  {
   "cell_type": "code",
   "execution_count": 104,
   "metadata": {},
   "outputs": [],
   "source": [
    "lidar_data = np.vstack(\n",
    "    (\n",
    "        las.X,\n",
    "        las.Y,\n",
    "        las.Z,\n",
    "        las.intensity,\n",
    "        las.return_number,\n",
    "        las.number_of_returns,\n",
    "        las.classification,\n",
    "    )\n",
    ").transpose()"
   ]
  },
  {
   "cell_type": "code",
   "execution_count": 105,
   "metadata": {},
   "outputs": [],
   "source": [
    "lidar_dataset: pd.DataFrame = pd.DataFrame(\n",
    "    lidar_data,\n",
    "    columns=[\n",
    "        \"X\",\n",
    "        \"Y\",\n",
    "        \"Z\",\n",
    "        \"intensity\",\n",
    "        \"return_number\",\n",
    "        \"number_of_returns\",\n",
    "        \"classification\",\n",
    "    ],\n",
    ")"
   ]
  },
  {
   "cell_type": "code",
   "execution_count": 106,
   "metadata": {},
   "outputs": [],
   "source": [
    "lidar_dataset[\"X\"] = lidar_dataset[\"X\"] / 100\n",
    "lidar_dataset[\"Y\"] = lidar_dataset[\"Y\"] / 100\n",
    "lidar_dataset[\"Z\"] = lidar_dataset[\"Z\"] / 100"
   ]
  },
  {
   "cell_type": "code",
   "execution_count": 107,
   "metadata": {},
   "outputs": [],
   "source": [
    "del las\n",
    "del lidar_data"
   ]
  },
  {
   "cell_type": "code",
   "execution_count": 108,
   "metadata": {},
   "outputs": [
    {
     "data": {
      "text/html": [
       "<div>\n",
       "<style scoped>\n",
       "    .dataframe tbody tr th:only-of-type {\n",
       "        vertical-align: middle;\n",
       "    }\n",
       "\n",
       "    .dataframe tbody tr th {\n",
       "        vertical-align: top;\n",
       "    }\n",
       "\n",
       "    .dataframe thead th {\n",
       "        text-align: right;\n",
       "    }\n",
       "</style>\n",
       "<table border=\"1\" class=\"dataframe\">\n",
       "  <thead>\n",
       "    <tr style=\"text-align: right;\">\n",
       "      <th></th>\n",
       "      <th>X</th>\n",
       "      <th>Y</th>\n",
       "      <th>Z</th>\n",
       "      <th>intensity</th>\n",
       "      <th>return_number</th>\n",
       "      <th>number_of_returns</th>\n",
       "      <th>classification</th>\n",
       "    </tr>\n",
       "  </thead>\n",
       "  <tbody>\n",
       "    <tr>\n",
       "      <th>0</th>\n",
       "      <td>838257.05</td>\n",
       "      <td>9674657.51</td>\n",
       "      <td>76.59</td>\n",
       "      <td>1</td>\n",
       "      <td>2</td>\n",
       "      <td>2</td>\n",
       "      <td>1</td>\n",
       "    </tr>\n",
       "    <tr>\n",
       "      <th>1</th>\n",
       "      <td>838257.11</td>\n",
       "      <td>9674657.22</td>\n",
       "      <td>76.33</td>\n",
       "      <td>1</td>\n",
       "      <td>2</td>\n",
       "      <td>2</td>\n",
       "      <td>1</td>\n",
       "    </tr>\n",
       "    <tr>\n",
       "      <th>2</th>\n",
       "      <td>838257.04</td>\n",
       "      <td>9674657.77</td>\n",
       "      <td>77.84</td>\n",
       "      <td>1</td>\n",
       "      <td>2</td>\n",
       "      <td>2</td>\n",
       "      <td>1</td>\n",
       "    </tr>\n",
       "    <tr>\n",
       "      <th>3</th>\n",
       "      <td>838257.05</td>\n",
       "      <td>9674657.80</td>\n",
       "      <td>78.24</td>\n",
       "      <td>2</td>\n",
       "      <td>1</td>\n",
       "      <td>1</td>\n",
       "      <td>1</td>\n",
       "    </tr>\n",
       "    <tr>\n",
       "      <th>4</th>\n",
       "      <td>838257.08</td>\n",
       "      <td>9674657.67</td>\n",
       "      <td>78.28</td>\n",
       "      <td>1</td>\n",
       "      <td>1</td>\n",
       "      <td>1</td>\n",
       "      <td>1</td>\n",
       "    </tr>\n",
       "    <tr>\n",
       "      <th>...</th>\n",
       "      <td>...</td>\n",
       "      <td>...</td>\n",
       "      <td>...</td>\n",
       "      <td>...</td>\n",
       "      <td>...</td>\n",
       "      <td>...</td>\n",
       "      <td>...</td>\n",
       "    </tr>\n",
       "    <tr>\n",
       "      <th>64274556</th>\n",
       "      <td>841000.00</td>\n",
       "      <td>9674125.71</td>\n",
       "      <td>116.18</td>\n",
       "      <td>6</td>\n",
       "      <td>1</td>\n",
       "      <td>2</td>\n",
       "      <td>1</td>\n",
       "    </tr>\n",
       "    <tr>\n",
       "      <th>64274557</th>\n",
       "      <td>841000.24</td>\n",
       "      <td>9674129.95</td>\n",
       "      <td>107.16</td>\n",
       "      <td>1</td>\n",
       "      <td>2</td>\n",
       "      <td>2</td>\n",
       "      <td>1</td>\n",
       "    </tr>\n",
       "    <tr>\n",
       "      <th>64274558</th>\n",
       "      <td>841000.22</td>\n",
       "      <td>9674129.66</td>\n",
       "      <td>107.19</td>\n",
       "      <td>1</td>\n",
       "      <td>2</td>\n",
       "      <td>2</td>\n",
       "      <td>1</td>\n",
       "    </tr>\n",
       "    <tr>\n",
       "      <th>64274559</th>\n",
       "      <td>841000.18</td>\n",
       "      <td>9674128.53</td>\n",
       "      <td>104.07</td>\n",
       "      <td>1</td>\n",
       "      <td>2</td>\n",
       "      <td>2</td>\n",
       "      <td>1</td>\n",
       "    </tr>\n",
       "    <tr>\n",
       "      <th>64274560</th>\n",
       "      <td>841000.08</td>\n",
       "      <td>9674126.22</td>\n",
       "      <td>102.27</td>\n",
       "      <td>1</td>\n",
       "      <td>2</td>\n",
       "      <td>2</td>\n",
       "      <td>1</td>\n",
       "    </tr>\n",
       "  </tbody>\n",
       "</table>\n",
       "<p>64274561 rows × 7 columns</p>\n",
       "</div>"
      ],
      "text/plain": [
       "                  X           Y       Z  intensity  return_number  \\\n",
       "0         838257.05  9674657.51   76.59          1              2   \n",
       "1         838257.11  9674657.22   76.33          1              2   \n",
       "2         838257.04  9674657.77   77.84          1              2   \n",
       "3         838257.05  9674657.80   78.24          2              1   \n",
       "4         838257.08  9674657.67   78.28          1              1   \n",
       "...             ...         ...     ...        ...            ...   \n",
       "64274556  841000.00  9674125.71  116.18          6              1   \n",
       "64274557  841000.24  9674129.95  107.16          1              2   \n",
       "64274558  841000.22  9674129.66  107.19          1              2   \n",
       "64274559  841000.18  9674128.53  104.07          1              2   \n",
       "64274560  841000.08  9674126.22  102.27          1              2   \n",
       "\n",
       "          number_of_returns  classification  \n",
       "0                         2               1  \n",
       "1                         2               1  \n",
       "2                         2               1  \n",
       "3                         1               1  \n",
       "4                         1               1  \n",
       "...                     ...             ...  \n",
       "64274556                  2               1  \n",
       "64274557                  2               1  \n",
       "64274558                  2               1  \n",
       "64274559                  2               1  \n",
       "64274560                  2               1  \n",
       "\n",
       "[64274561 rows x 7 columns]"
      ]
     },
     "execution_count": 108,
     "metadata": {},
     "output_type": "execute_result"
    }
   ],
   "source": [
    "lidar_dataset"
   ]
  },
  {
   "cell_type": "markdown",
   "metadata": {},
   "source": [
    "# Exploração"
   ]
  },
  {
   "cell_type": "code",
   "execution_count": 109,
   "metadata": {},
   "outputs": [
    {
     "data": {
      "text/plain": [
       "array([1, 2])"
      ]
     },
     "execution_count": 109,
     "metadata": {},
     "output_type": "execute_result"
    }
   ],
   "source": [
    "lidar_dataset[\"classification\"].unique()"
   ]
  },
  {
   "cell_type": "code",
   "execution_count": 110,
   "metadata": {},
   "outputs": [
    {
     "data": {
      "text/plain": [
       "count    4.919999e+07\n",
       "mean     9.064246e+01\n",
       "std      1.872428e+01\n",
       "min      4.077000e+01\n",
       "25%      7.653000e+01\n",
       "50%      8.793000e+01\n",
       "75%      1.016100e+02\n",
       "max      1.500200e+02\n",
       "Name: Z, dtype: float64"
      ]
     },
     "execution_count": 110,
     "metadata": {},
     "output_type": "execute_result"
    }
   ],
   "source": [
    "lidar_dataset[lidar_dataset[\"return_number\"] == 1][\"Z\"].describe()"
   ]
  },
  {
   "cell_type": "code",
   "execution_count": 126,
   "metadata": {},
   "outputs": [
    {
     "data": {
      "text/plain": [
       "count    1.371297e+07\n",
       "mean     8.319745e+01\n",
       "std      1.916856e+01\n",
       "min      4.028000e+01\n",
       "25%      6.884000e+01\n",
       "50%      8.053000e+01\n",
       "75%      9.615000e+01\n",
       "max      1.457600e+02\n",
       "Name: Z, dtype: float64"
      ]
     },
     "execution_count": 126,
     "metadata": {},
     "output_type": "execute_result"
    }
   ],
   "source": [
    "lidar_dataset[lidar_dataset[\"return_number\"] == 2][\"Z\"].describe()"
   ]
  },
  {
   "cell_type": "markdown",
   "metadata": {},
   "source": [
    "## Cálculo da função de densidade"
   ]
  },
  {
   "cell_type": "code",
   "execution_count": 141,
   "metadata": {},
   "outputs": [],
   "source": [
    "density = scipy.stats.gaussian_kde(\n",
    "    lidar_dataset[lidar_dataset[\"return_number\"] == 1][\"Z\"]\n",
    ")"
   ]
  },
  {
   "cell_type": "code",
   "execution_count": 142,
   "metadata": {},
   "outputs": [],
   "source": [
    "x = np.linspace(0, 200, 400)\n",
    "y = density(x)\n",
    "data = pd.DataFrame(data=np.vstack([x, y]).transpose(), columns=[\"X\", \"Y\"])"
   ]
  },
  {
   "cell_type": "code",
   "execution_count": 143,
   "metadata": {},
   "outputs": [
    {
     "data": {
      "text/plain": [
       "<Axes: xlabel='X', ylabel='Y'>"
      ]
     },
     "execution_count": 143,
     "metadata": {},
     "output_type": "execute_result"
    },
    {
     "data": {
      "image/png": "[encoded data removed]",
      "text/plain": [
       "<Figure size 640x480 with 1 Axes>"
      ]
     },
     "metadata": {},
     "output_type": "display_data"
    }
   ],
   "source": [
    "sns.lineplot(data, x=\"X\", y=\"Y\")"
   ]
  },
  {
   "cell_type": "code",
   "execution_count": 181,
   "metadata": {},
   "outputs": [],
   "source": [
    "bins = 10"
   ]
  },
  {
   "cell_type": "code",
   "execution_count": 182,
   "metadata": {},
   "outputs": [
    {
     "data": {
      "text/plain": [
       "<Axes: xlabel='Z', ylabel='Count'>"
      ]
     },
     "execution_count": 182,
     "metadata": {},
     "output_type": "execute_result"
    },
    {
     "data": {
      "image/png": "[encoded data removed]",
      "text/plain": [
       "<Figure size 640x480 with 1 Axes>"
      ]
     },
     "metadata": {},
     "output_type": "display_data"
    }
   ],
   "source": [
    "sns.histplot(\n",
    "    data=lidar_dataset[(lidar_dataset[\"return_number\"] == 1)][\"Z\"],\n",
    "    bins=bins,\n",
    "    kde=True,\n",
    "    binrange=(40, 150),\n",
    ")"
   ]
  },
  {
   "cell_type": "code",
   "execution_count": 183,
   "metadata": {},
   "outputs": [],
   "source": [
    "first_returns_hist, first_returns_bin_edges = np.histogram(\n",
    "    lidar_dataset[lidar_dataset[\"return_number\"] == 1][\"Z\"],\n",
    "    bins=bins,\n",
    "    density=True,\n",
    "    range=(40, 150),\n",
    ")"
   ]
  },
  {
   "cell_type": "code",
   "execution_count": 184,
   "metadata": {},
   "outputs": [
    {
     "data": {
      "text/plain": [
       "(array([3.19225866e-04, 2.40124037e-03, 1.36001915e-02, 2.08559803e-02,\n",
       "        2.21638520e-02, 1.22730367e-02, 7.24103820e-03, 9.21626592e-03,\n",
       "        2.75952390e-03, 7.87361595e-05]),\n",
       " array([ 40.,  51.,  62.,  73.,  84.,  95., 106., 117., 128., 139., 150.]))"
      ]
     },
     "execution_count": 184,
     "metadata": {},
     "output_type": "execute_result"
    }
   ],
   "source": [
    "first_returns_hist, first_returns_bin_edges"
   ]
  },
  {
   "cell_type": "code",
   "execution_count": 185,
   "metadata": {},
   "outputs": [
    {
     "data": {
      "text/plain": [
       "<Axes: xlabel='Z', ylabel='Count'>"
      ]
     },
     "execution_count": 185,
     "metadata": {},
     "output_type": "execute_result"
    },
    {
     "data": {
      "image/png": "[encoded data removed]",
      "text/plain": [
       "<Figure size 640x480 with 1 Axes>"
      ]
     },
     "metadata": {},
     "output_type": "display_data"
    }
   ],
   "source": [
    "sns.histplot(\n",
    "    data=lidar_dataset[(lidar_dataset[\"return_number\"] == 2)][\"Z\"],\n",
    "    bins=bins,\n",
    "    kde=True,\n",
    "    binrange=(40, 150),\n",
    ")"
   ]
  },
  {
   "cell_type": "code",
   "execution_count": 186,
   "metadata": {},
   "outputs": [],
   "source": [
    "second_returns_hist, second_returns_bin_edges = np.histogram(\n",
    "    lidar_dataset[lidar_dataset[\"return_number\"] == 2][\"Z\"],\n",
    "    bins=bins,\n",
    "    density=True,\n",
    "    range=(40, 150),\n",
    ")"
   ]
  },
  {
   "cell_type": "code",
   "execution_count": 187,
   "metadata": {},
   "outputs": [
    {
     "data": {
      "text/plain": [
       "(array([2.21932544e-03, 9.02883714e-03, 1.96551001e-02, 2.08412830e-02,\n",
       "        1.53003512e-02, 9.62386103e-03, 8.71545766e-03, 5.05671203e-03,\n",
       "        4.58855541e-04, 9.30771046e-06]),\n",
       " array([ 40.,  51.,  62.,  73.,  84.,  95., 106., 117., 128., 139., 150.]))"
      ]
     },
     "execution_count": 187,
     "metadata": {},
     "output_type": "execute_result"
    }
   ],
   "source": [
    "second_returns_hist, second_returns_bin_edges"
   ]
  },
  {
   "cell_type": "code",
   "execution_count": 188,
   "metadata": {},
   "outputs": [],
   "source": [
    "matrix_probability = np.ndarray((bins, bins))"
   ]
  },
  {
   "cell_type": "code",
   "execution_count": 189,
   "metadata": {},
   "outputs": [
    {
     "name": "stdout",
     "output_type": "stream",
     "text": [
      "Bin - primeiros retornos: 51.0 - segundos retornos: 40.0\n",
      "Bin - primeiros retornos: 62.0 - segundos retornos: 40.0\n",
      "Bin - primeiros retornos: 62.0 - segundos retornos: 51.0\n",
      "Bin - primeiros retornos: 73.0 - segundos retornos: 40.0\n",
      "Bin - primeiros retornos: 73.0 - segundos retornos: 51.0\n",
      "Bin - primeiros retornos: 73.0 - segundos retornos: 62.0\n",
      "Bin - primeiros retornos: 84.0 - segundos retornos: 40.0\n",
      "Bin - primeiros retornos: 84.0 - segundos retornos: 51.0\n",
      "Bin - primeiros retornos: 84.0 - segundos retornos: 62.0\n",
      "Bin - primeiros retornos: 84.0 - segundos retornos: 73.0\n",
      "Bin - primeiros retornos: 95.0 - segundos retornos: 40.0\n",
      "Bin - primeiros retornos: 95.0 - segundos retornos: 51.0\n",
      "Bin - primeiros retornos: 95.0 - segundos retornos: 62.0\n",
      "Bin - primeiros retornos: 95.0 - segundos retornos: 73.0\n",
      "Bin - primeiros retornos: 95.0 - segundos retornos: 84.0\n",
      "Bin - primeiros retornos: 106.0 - segundos retornos: 40.0\n",
      "Bin - primeiros retornos: 106.0 - segundos retornos: 51.0\n",
      "Bin - primeiros retornos: 106.0 - segundos retornos: 62.0\n",
      "Bin - primeiros retornos: 106.0 - segundos retornos: 73.0\n",
      "Bin - primeiros retornos: 106.0 - segundos retornos: 84.0\n",
      "Bin - primeiros retornos: 106.0 - segundos retornos: 95.0\n",
      "Bin - primeiros retornos: 117.0 - segundos retornos: 40.0\n",
      "Bin - primeiros retornos: 117.0 - segundos retornos: 51.0\n",
      "Bin - primeiros retornos: 117.0 - segundos retornos: 62.0\n",
      "Bin - primeiros retornos: 117.0 - segundos retornos: 73.0\n",
      "Bin - primeiros retornos: 117.0 - segundos retornos: 84.0\n",
      "Bin - primeiros retornos: 117.0 - segundos retornos: 95.0\n",
      "Bin - primeiros retornos: 117.0 - segundos retornos: 106.0\n",
      "Bin - primeiros retornos: 128.0 - segundos retornos: 40.0\n",
      "Bin - primeiros retornos: 128.0 - segundos retornos: 51.0\n",
      "Bin - primeiros retornos: 128.0 - segundos retornos: 62.0\n",
      "Bin - primeiros retornos: 128.0 - segundos retornos: 73.0\n",
      "Bin - primeiros retornos: 128.0 - segundos retornos: 84.0\n",
      "Bin - primeiros retornos: 128.0 - segundos retornos: 95.0\n",
      "Bin - primeiros retornos: 128.0 - segundos retornos: 106.0\n",
      "Bin - primeiros retornos: 128.0 - segundos retornos: 117.0\n",
      "Bin - primeiros retornos: 139.0 - segundos retornos: 40.0\n",
      "Bin - primeiros retornos: 139.0 - segundos retornos: 51.0\n",
      "Bin - primeiros retornos: 139.0 - segundos retornos: 62.0\n",
      "Bin - primeiros retornos: 139.0 - segundos retornos: 73.0\n",
      "Bin - primeiros retornos: 139.0 - segundos retornos: 84.0\n",
      "Bin - primeiros retornos: 139.0 - segundos retornos: 95.0\n",
      "Bin - primeiros retornos: 139.0 - segundos retornos: 106.0\n",
      "Bin - primeiros retornos: 139.0 - segundos retornos: 117.0\n",
      "Bin - primeiros retornos: 139.0 - segundos retornos: 128.0\n"
     ]
    }
   ],
   "source": [
    "for i in range(0, bins):\n",
    "    # print(f\"Bin - primeiros retornos: {first_returns_bin_edges[i]}\")\n",
    "\n",
    "    for j in range(0, bins):\n",
    "        # print(f\"Bin - segundos retornos: {second_returns_bin_edges[j]}\")\n",
    "        if i == j:\n",
    "            matrix_probability[i, j] = first_returns_hist[j]\n",
    "        elif j > i:\n",
    "\n",
    "            matrix_probability[i, j] = 0\n",
    "        else:\n",
    "            _mask_first_returns = (\n",
    "                (lidar_dataset[\"return_number\"] == 1)\n",
    "                & (lidar_dataset[\"number_of_returns\"] > 1)\n",
    "                & (lidar_dataset[\"Z\"] > first_returns_bin_edges[i - 1])\n",
    "                & (lidar_dataset[\"Z\"] <= first_returns_bin_edges[i])\n",
    "            )\n",
    "            _mask_second_returns = (\n",
    "                (lidar_dataset[\"return_number\"] == 2)\n",
    "                & (lidar_dataset[\"number_of_returns\"] > 1)\n",
    "                & (lidar_dataset[\"Z\"] > first_returns_bin_edges[j - 1])\n",
    "                & (lidar_dataset[\"Z\"] <= first_returns_bin_edges[j])\n",
    "            )\n",
    "            print(\n",
    "                f\"Bin - primeiros retornos: {first_returns_bin_edges[i]} - segundos retornos: {second_returns_bin_edges[j]}\"\n",
    "            )\n",
    "            _count_first_return = lidar_dataset[_mask_first_returns][\"Z\"].count()\n",
    "            _count_second_return = lidar_dataset[_mask_second_returns][\"Z\"].count()\n",
    "            matrix_probability[i, j] = _count_first_return + _count_second_return"
   ]
  },
  {
   "cell_type": "code",
   "execution_count": 190,
   "metadata": {},
   "outputs": [
    {
     "data": {
      "image/png": "[encoded data removed]",
      "text/plain": [
       "<Figure size 1000x1000 with 2 Axes>"
      ]
     },
     "metadata": {},
     "output_type": "display_data"
    }
   ],
   "source": [
    "plt.figure(figsize=(10, 10))\n",
    "\n",
    "\n",
    "plt.matshow(matrix_probability, cmap=plt.cm.Blues, fignum=1)\n",
    "\n",
    "\n",
    "plt.xticks(\n",
    "    range(len(second_returns_bin_edges) - 1),\n",
    "    second_returns_bin_edges[:bins],\n",
    "    fontsize=8,\n",
    ")\n",
    "\n",
    "\n",
    "plt.yticks(\n",
    "    range(len(second_returns_bin_edges) - 1),\n",
    "    second_returns_bin_edges[:bins],\n",
    "    fontsize=8,\n",
    ")\n",
    "\n",
    "\n",
    "plt.colorbar()\n",
    "# plt.gca().yaxis.set_major_formatter(FormatStrFormatter('{x:,.2f}')) # 2 decimal places\n",
    "# plt.gca().xaxis.set_major_formatter(FormatStrFormatter('{x:,.2f}')) # 2 decimal places\n",
    "\n",
    "\n",
    "plt.show()"
   ]
  }
 ],
 "metadata": {
  "kernelspec": {
   "display_name": ".venv",
   "language": "python",
   "name": "python3"
  },
  "language_info": {
   "codemirror_mode": {
    "name": "ipython",
    "version": 3
   },
   "file_extension": ".py",
   "mimetype": "text/x-python",
   "name": "python",
   "nbconvert_exporter": "python",
   "pygments_lexer": "ipython3",
   "version": "3.12.0"
  }
 },
 "nbformat": 4,
 "nbformat_minor": 2
}
