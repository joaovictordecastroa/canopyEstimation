{
 "cells": [
  {
   "cell_type": "markdown",
   "metadata": {},
   "source": [
    "## Importações"
   ]
  },
  {
   "cell_type": "code",
   "execution_count": null,
   "metadata": {},
   "outputs": [],
   "source": [
    "import geopandas\n",
    "import pandas as pd\n",
    "import numpy as np\n",
    "import matplotlib.pyplot as plt\n",
    "import laspy\n",
    "from shapely.geometry import box, Polygon, MultiPolygon, GeometryCollection\n",
    "\n",
    "\n",
    "# from train_split import TrainSplit"
   ]
  },
  {
   "cell_type": "markdown",
   "metadata": {},
   "source": [
    "## TranSplit"
   ]
  },
  {
   "cell_type": "code",
   "execution_count": null,
   "metadata": {},
   "outputs": [],
   "source": [
    "import geopandas\n",
    "from shapely.geometry import Point, Polygon\n",
    "\n",
    "\n",
    "class TrainSplit:\n",
    "    @staticmethod\n",
    "    def _get_records_in_plot_location(\n",
    "        lidar_data: geopandas.GeoDataFrame, plot_location: geopandas.GeoDataFrame\n",
    "    ) -> any:\n",
    "        # return plot_location.contains(lidar_data)\n",
    "        print(plot_location.items())\n",
    "        return lidar_data.assign(\n",
    "            **{key: lidar_data.within(geom) for key, geom in plot_location.items()}\n",
    "        )"
   ]
  },
  {
   "cell_type": "markdown",
   "metadata": {},
   "source": [
    "# Split Geometry"
   ]
  },
  {
   "cell_type": "code",
   "execution_count": null,
   "metadata": {},
   "outputs": [],
   "source": [
    "def katana(geometry, threshold, count=0):\n",
    "    print(\"Geometry\")\n",
    "    print(type(geometry))\n",
    "    print(geometry)\n",
    "\n",
    "    \"\"\"Split a Polygon into two parts across it's shortest dimension\"\"\"\n",
    "\n",
    "    bounds = geometry.bounds\n",
    "\n",
    "    width = bounds[2] - bounds[0]\n",
    "\n",
    "    height = bounds[3] - bounds[1]\n",
    "\n",
    "    print(\"width, height\")\n",
    "\n",
    "    print(width, height)\n",
    "\n",
    "    if max(width, height) <= threshold or count == 250:\n",
    "\n",
    "        # either the polygon is smaller than the threshold, or the maximum\n",
    "\n",
    "        # number of recursions has been reached\n",
    "\n",
    "        return [geometry]\n",
    "\n",
    "    if height >= width:\n",
    "\n",
    "        # split left to right\n",
    "\n",
    "        a = box(bounds[0], bounds[1], bounds[2], bounds[1] + height / 2)\n",
    "\n",
    "        b = box(bounds[0], bounds[1] + height / 2, bounds[2], bounds[3])\n",
    "\n",
    "    else:\n",
    "\n",
    "        # split top to bottom\n",
    "\n",
    "        a = box(bounds[0], bounds[1], bounds[0] + width / 2, bounds[3])\n",
    "\n",
    "        b = box(bounds[0] + width / 2, bounds[1], bounds[2], bounds[3])\n",
    "\n",
    "    result = []\n",
    "\n",
    "    for d in (\n",
    "        a,\n",
    "        b,\n",
    "    ):\n",
    "\n",
    "        c = geometry.intersection(d)\n",
    "\n",
    "        if not isinstance(c, GeometryCollection):\n",
    "\n",
    "            c = [c]\n",
    "\n",
    "        for e in c:\n",
    "\n",
    "            if isinstance(e, (Polygon, MultiPolygon)):\n",
    "\n",
    "                result.extend(katana(e, threshold, count + 1))\n",
    "\n",
    "    if count > 0:\n",
    "        return result\n",
    "\n",
    "    # convert multipart into singlepart\n",
    "\n",
    "    final_result = []\n",
    "\n",
    "    for g in result:\n",
    "\n",
    "        if isinstance(g, MultiPolygon):\n",
    "\n",
    "            final_result.extend(g)\n",
    "\n",
    "        else:\n",
    "\n",
    "            final_result.append(g)\n",
    "\n",
    "    return final_result"
   ]
  },
  {
   "cell_type": "markdown",
   "metadata": {},
   "source": [
    "## Carregamento dos dados"
   ]
  },
  {
   "cell_type": "code",
   "execution_count": null,
   "metadata": {},
   "outputs": [],
   "source": [
    "las = laspy.read(\n",
    "    \"C:/Users/joaov/Documents/UFMG/TCC/Dataset/DUC_A01_2017_LiDAR/DUC_A01_2017_LAS/DUCL0001C0004.las\"\n",
    ")"
   ]
  },
  {
   "cell_type": "code",
   "execution_count": null,
   "metadata": {},
   "outputs": [],
   "source": [
    "lidar_dataset = pd.DataFrame(las.xyz, columns=[\"X\", \"Y\", \"Z\"])"
   ]
  },
  {
   "cell_type": "code",
   "execution_count": null,
   "metadata": {},
   "outputs": [],
   "source": [
    "del las"
   ]
  },
  {
   "cell_type": "code",
   "execution_count": null,
   "metadata": {},
   "outputs": [],
   "source": [
    "geo_lidar_dataset = geopandas.GeoDataFrame(\n",
    "    lidar_dataset,\n",
    "    geometry=geopandas.points_from_xy(lidar_dataset.X, lidar_dataset.Y),\n",
    "    crs=\"EPSG:32720\",\n",
    ")"
   ]
  },
  {
   "cell_type": "code",
   "execution_count": null,
   "metadata": {},
   "outputs": [],
   "source": [
    "del lidar_dataset"
   ]
  },
  {
   "cell_type": "code",
   "execution_count": null,
   "metadata": {},
   "outputs": [],
   "source": [
    "inventory_plot_location: geopandas.GeoDataFrame = geopandas.read_file(\n",
    "    \"C:/Users/joaov/Documents/UFMG/TCC/Dataset/DUC_A01_2016_PLOTLOCATION/duc_a01_2016_plotlocation.shx\"\n",
    ")"
   ]
  },
  {
   "cell_type": "code",
   "execution_count": null,
   "metadata": {},
   "outputs": [],
   "source": [
    "inventory_plot_location.head()"
   ]
  },
  {
   "cell_type": "code",
   "execution_count": null,
   "metadata": {},
   "outputs": [],
   "source": [
    "inventory_plot_location.plot()"
   ]
  },
  {
   "cell_type": "code",
   "execution_count": null,
   "metadata": {},
   "outputs": [],
   "source": [
    "# gdf = inventory_plot_location['geometry'].to_crs({'proj':'cea'})"
   ]
  },
  {
   "cell_type": "code",
   "execution_count": null,
   "metadata": {},
   "outputs": [],
   "source": [
    "# (gdf.area / 10**6).sum()"
   ]
  },
  {
   "cell_type": "code",
   "execution_count": null,
   "metadata": {},
   "outputs": [],
   "source": [
    "inventory = pd.read_csv(\n",
    "    \"C:/Users/joaov/Documents/UFMG/TCC/Dataset/DUC_A01_2016_inventory.csv\",\n",
    "    encoding=\"ISO-8859-1\",\n",
    ")"
   ]
  },
  {
   "cell_type": "code",
   "execution_count": null,
   "metadata": {},
   "outputs": [],
   "source": [
    "inventory.head()"
   ]
  },
  {
   "cell_type": "code",
   "execution_count": null,
   "metadata": {},
   "outputs": [],
   "source": [
    "inventory[\"plot\"].unique()"
   ]
  },
  {
   "cell_type": "code",
   "execution_count": null,
   "metadata": {},
   "outputs": [],
   "source": [
    "inventory_plot_location"
   ]
  },
  {
   "cell_type": "markdown",
   "metadata": {},
   "source": [
    "## Merge inventário com a região"
   ]
  },
  {
   "cell_type": "code",
   "execution_count": null,
   "metadata": {},
   "outputs": [],
   "source": [
    "geo_inventory_dataset = geopandas.GeoDataFrame(\n",
    "    inventory,\n",
    "    geometry=geopandas.points_from_xy(\n",
    "        inventory[\"UTM.Easting\"], inventory[\"UTM.Northing\"]\n",
    "    ),\n",
    "    crs=\"EPSG:32720\",\n",
    ")"
   ]
  },
  {
   "cell_type": "code",
   "execution_count": null,
   "metadata": {},
   "outputs": [],
   "source": [
    "geo_inventory_dataset.head()"
   ]
  },
  {
   "cell_type": "code",
   "execution_count": null,
   "metadata": {},
   "outputs": [],
   "source": [
    "inventory_point_in_poly = geopandas.sjoin(\n",
    "    geo_inventory_dataset,\n",
    "    inventory_plot_location,\n",
    "    predicate=\"within\",\n",
    "    lsuffix=\"left\",\n",
    "    rsuffix=\"right\",\n",
    ")"
   ]
  },
  {
   "cell_type": "code",
   "execution_count": null,
   "metadata": {},
   "outputs": [],
   "source": [
    "inventory_point_in_poly"
   ]
  },
  {
   "cell_type": "code",
   "execution_count": null,
   "metadata": {},
   "outputs": [],
   "source": [
    "del geo_inventory_dataset"
   ]
  },
  {
   "cell_type": "markdown",
   "metadata": {},
   "source": [
    "## Encontrando os dados LiDAR no Inventário"
   ]
  },
  {
   "cell_type": "code",
   "execution_count": null,
   "metadata": {},
   "outputs": [],
   "source": [
    "lidar_point_in_poly = geopandas.sjoin(\n",
    "    geo_lidar_dataset,\n",
    "    inventory_plot_location,\n",
    "    predicate=\"within\",\n",
    "    lsuffix=\"left\",\n",
    "    rsuffix=\"right\",\n",
    ")"
   ]
  },
  {
   "cell_type": "code",
   "execution_count": null,
   "metadata": {},
   "outputs": [],
   "source": [
    "lidar_point_in_poly"
   ]
  },
  {
   "cell_type": "code",
   "execution_count": null,
   "metadata": {},
   "outputs": [],
   "source": [
    "lidar_point_in_poly[\"plot_ID\"].unique()"
   ]
  },
  {
   "cell_type": "markdown",
   "metadata": {},
   "source": [
    "## Analisando dados do inventário à nível de plot"
   ]
  },
  {
   "cell_type": "code",
   "execution_count": null,
   "metadata": {},
   "outputs": [],
   "source": [
    "inventory_point_in_poly.head()"
   ]
  },
  {
   "cell_type": "code",
   "execution_count": null,
   "metadata": {},
   "outputs": [],
   "source": [
    "(inventory_point_in_poly.groupby(\"plot\")[\"D.class\"].describe())"
   ]
  },
  {
   "cell_type": "code",
   "execution_count": null,
   "metadata": {},
   "outputs": [],
   "source": [
    "(inventory_point_in_poly.groupby(\"plot\")[\"DBH\"].describe())"
   ]
  },
  {
   "cell_type": "markdown",
   "metadata": {},
   "source": [
    "# Splitando os dados do inventário"
   ]
  },
  {
   "cell_type": "code",
   "execution_count": null,
   "metadata": {},
   "outputs": [],
   "source": [
    "inventory_plot_location"
   ]
  },
  {
   "cell_type": "code",
   "execution_count": null,
   "metadata": {},
   "outputs": [],
   "source": [
    "inventory_splits = inventory_plot_location.groupby(\"plot_ID\").apply(\n",
    "    lambda dataframe: katana(dataframe.geometry.iloc[0], 50, 0)\n",
    ")"
   ]
  },
  {
   "cell_type": "code",
   "execution_count": null,
   "metadata": {},
   "outputs": [],
   "source": [
    "inventory_splits"
   ]
  },
  {
   "cell_type": "code",
   "execution_count": null,
   "metadata": {},
   "outputs": [],
   "source": [
    "inventory_splits = inventory_splits.explode()"
   ]
  },
  {
   "cell_type": "code",
   "execution_count": null,
   "metadata": {},
   "outputs": [],
   "source": [
    "inventory_plot_location = inventory_plot_location.join(inventory_splits.rename(\"splits\"), on=\"plot_ID\")\n",
    "\n",
    "inventory_plot_location"
   ]
  },
  {
   "cell_type": "code",
   "execution_count": null,
   "metadata": {},
   "outputs": [],
   "source": [
    "del inventory_splits"
   ]
  }
 ],
 "metadata": {
  "kernelspec": {
   "display_name": "venv",
   "language": "python",
   "name": "python3"
  },
  "language_info": {
   "codemirror_mode": {
    "name": "ipython",
    "version": 3
   },
   "file_extension": ".py",
   "mimetype": "text/x-python",
   "name": "python",
   "nbconvert_exporter": "python",
   "pygments_lexer": "ipython3",
   "version": "3.12.0"
  }
 },
 "nbformat": 4,
 "nbformat_minor": 2
}
